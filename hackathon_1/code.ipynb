{
  "nbformat": 4,
  "nbformat_minor": 0,
  "metadata": {
    "colab": {
      "name": "Untitled",
      "provenance": [],
      "collapsed_sections": []
    },
    "kernelspec": {
      "name": "python3",
      "display_name": "Python 3"
    },
    "language_info": {
      "name": "python"
    }
  },
  "cells": [
    {
      "cell_type": "code",
      "metadata": {
        "id": "CMLi-9RDSU5P"
      },
      "source": [
        "import pandas as pd\n",
        "import torch\n",
        "from sklearn.preprocessing import LabelEncoder\n",
        "from torch import nn\n",
        "import numpy as np\n"
      ],
      "execution_count": null,
      "outputs": []
    },
    {
      "cell_type": "code",
      "metadata": {
        "id": "egEFQlJqUZBJ"
      },
      "source": [
        "dt=pd.read_csv(\"train.csv\")\n",
        "dt.dropna(inplace=True)\n",
        "dt.drop_duplicates(inplace=True)\n",
        "dt"
      ],
      "execution_count": null,
      "outputs": []
    },
    {
      "cell_type": "code",
      "metadata": {
        "id": "t7ZYLrUrUj-7"
      },
      "source": [
        "dt=dt.iloc[:,1:]\n",
        "dt_features=dt.values[:,:-1]\n",
        "dt_features=torch.from_numpy(dt_features.astype('float32'))\n",
        "dt_target=dt.values[:,-1]  ## convert pandas dataframe to numpy array along with slicing\n",
        "dt_target=torch.from_numpy(LabelEncoder().fit_transform(dt_target))\n",
        "dt\n",
        "\n"
      ],
      "execution_count": null,
      "outputs": []
    },
    {
      "cell_type": "code",
      "metadata": {
        "id": "a_OSQIQY39x2"
      },
      "source": [
        "train = torch.utils.data.TensorDataset(dt_features,dt_target)\n",
        "trainloader=torch.utils.data.DataLoader(train,batch_size=80,shuffle=True)"
      ],
      "execution_count": null,
      "outputs": []
    },
    {
      "cell_type": "code",
      "metadata": {
        "id": "tr_a_-3dEGb_"
      },
      "source": [
        "model = nn.Sequential( nn.Linear(75,64),\n",
        "                       nn.ReLU(),\n",
        "                      nn.Linear(64,32),\n",
        "                      nn.ReLU(),\n",
        "                      nn.Linear(32,9),\n",
        "                      nn.LogSoftmax(dim=1)\n",
        "                     )\n",
        "criterion = nn.NLLLoss()\n",
        "optimiser= torch.optim.SGD(model.parameters(),lr=0.005)"
      ],
      "execution_count": null,
      "outputs": []
    },
    {
      "cell_type": "code",
      "metadata": {
        "id": "qPZEundkyLoy"
      },
      "source": [
        "model.load_state_dict(torch.load('check.pth'))"
      ],
      "execution_count": null,
      "outputs": []
    },
    {
      "cell_type": "code",
      "metadata": {
        "id": "JqzlOrLTG-J_"
      },
      "source": [
        "data=iter(trainloader)\n",
        "features , target = next(data)\n",
        "model(features)\n",
        "target.shape\n",
        "loss=criterion(model(features),target)\n",
        "loss"
      ],
      "execution_count": null,
      "outputs": []
    },
    {
      "cell_type": "code",
      "metadata": {
        "id": "D9QcZlfzNctk"
      },
      "source": [
        "for x in range(100):\n",
        "  total_loss=0\n",
        "  for features , target in trainloader:\n",
        "    optimiser.zero_grad()\n",
        "    loss=criterion(model(features),target)\n",
        "    loss.backward()\n",
        "    optimiser.step()\n",
        "    total_loss = total_loss + loss.item()\n",
        "  print(total_loss/len(trainloader))"
      ],
      "execution_count": null,
      "outputs": []
    },
    {
      "cell_type": "code",
      "metadata": {
        "id": "7wsCT5N2rD1l"
      },
      "source": [
        "torch.save(model.state_dict(),'check.pth')"
      ],
      "execution_count": null,
      "outputs": []
    },
    {
      "cell_type": "code",
      "metadata": {
        "id": "AIgqjjg2r-o0"
      },
      "source": [
        "test_data=pd.read_csv('test.csv')"
      ],
      "execution_count": null,
      "outputs": []
    },
    {
      "cell_type": "code",
      "metadata": {
        "id": "B3HOb2F6stLC"
      },
      "source": [
        "test_data=test_data.iloc[:,1:]\n",
        "id=np.arange(200000,300000)\n",
        "test_data=torch.from_numpy(test_data.to_numpy().astype('float32'))"
      ],
      "execution_count": null,
      "outputs": []
    },
    {
      "cell_type": "code",
      "metadata": {
        "id": "3DJMctU_5hWo"
      },
      "source": [
        "log_pr=model(test_data)\n",
        "pr=torch.exp(log_pr)\n",
        "pr"
      ],
      "execution_count": null,
      "outputs": []
    },
    {
      "cell_type": "code",
      "metadata": {
        "id": "Q_Pm-FV858Mu"
      },
      "source": [
        "data=pr.detach().numpy()\n",
        "data=np.c_[id,data]\n",
        "df=pd.DataFrame(data,columns=['id','Class_1','Class_2','Class_3','Class_4','Class_5','Class_6','Class_7','Class_8','Class_9'])"
      ],
      "execution_count": null,
      "outputs": []
    },
    {
      "cell_type": "code",
      "metadata": {
        "id": "0P2ziO_c_o4a"
      },
      "source": [
        "df.to_csv('result.csv')"
      ],
      "execution_count": null,
      "outputs": []
    }
  ]
}